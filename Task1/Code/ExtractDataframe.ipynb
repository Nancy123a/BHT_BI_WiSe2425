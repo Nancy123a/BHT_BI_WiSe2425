{
 "cells": [
  {
   "cell_type": "markdown",
   "metadata": {},
   "source": [
    "# Extract the dataframe"
   ]
  },
  {
   "cell_type": "code",
   "execution_count": 1,
   "metadata": {},
   "outputs": [],
   "source": [
    "# imports\n",
    "import pandas as pd\n",
    "import pyexasol\n",
    "\n",
    "host = '192.168.56.101/8A3F422F336963EBB2E452E08A6B6E7060A554D85223032A44E9C60F0EFB8544:8563'  # Don't forget to change the fingerprint\n",
    "user = 'sys'\n",
    "password = 'exasol'\n",
    "\n",
    "# Connect to Exasol\n",
    "conn = pyexasol.connect(dsn=host, \n",
    "                        user=user, \n",
    "                        password=password, \n",
    "                        debug=False, \n",
    "                        protocol_version=pyexasol.PROTOCOL_V1)"
   ]
  },
  {
   "cell_type": "code",
   "execution_count": 9,
   "metadata": {},
   "outputs": [
    {
     "name": "stdout",
     "output_type": "stream",
     "text": [
      "Finished SQL Query. Writing to CSV\n"
     ]
    }
   ],
   "source": [
    "q = '''\n",
    "SELECT QUERYDIM.QUERY, TIMEDIM.[month], TIMEDIM.[day of the month], TIMEDIM.[hour], TIMEDIM.[minute], FACTS.ANONID, URLDIM.URL\n",
    "FROM AOL_SCHEMA.QUERYDIM \n",
    "    LEFT JOIN AOL_SCHEMA.FACTS ON QUERYDIM.ID = FACTS.QUERYID\n",
    "    LEFT JOIN AOL_SCHEMA.TIMEDIM ON FACTS.TIMEID = TIMEDIM.ID\n",
    "    LEFT JOIN AOL_SCHEMA.URLDIM ON FACTS.URLID = URLDIM.ID\n",
    "WHERE FACTS.CLICK = 1         \n",
    "    AND URLDIM.URL IN (\n",
    "        SELECT URLDIM.URL\n",
    "        FROM AOL_SCHEMA.FACTS \n",
    "        JOIN AOL_SCHEMA.URLDIM ON AOL_SCHEMA.FACTS.URLID = AOL_SCHEMA.URLDIM.ID\n",
    "        WHERE AOL_SCHEMA.FACTS.CLICK = 1\n",
    "        GROUP BY URLDIM.URL\n",
    "        ORDER BY COUNT(AOL_SCHEMA.FACTS.CLICK) DESC\n",
    "        LIMIT 15\n",
    "        )\n",
    "    AND (QUERYDIM.QUERY IS NOT NULL\n",
    "        AND TIMEDIM.[hour] IS NOT NULL\n",
    "        AND TIMEDIM.[minute] IS NOT NULL\n",
    "        AND TIMEDIM.[day of the year] IS NOT NULL)\n",
    "'''\n",
    "\n",
    "df = conn.export_to_pandas(q)\n",
    "print(\"Finished SQL Query. Writing to CSV\")\n",
    "df.to_csv(\"./../Data/AOLQueries.csv\")"
   ]
  }
 ],
 "metadata": {
  "kernelspec": {
   "display_name": "PDSP",
   "language": "python",
   "name": "python3"
  },
  "language_info": {
   "codemirror_mode": {
    "name": "ipython",
    "version": 3
   },
   "file_extension": ".py",
   "mimetype": "text/x-python",
   "name": "python",
   "nbconvert_exporter": "python",
   "pygments_lexer": "ipython3",
   "version": "3.12.7"
  }
 },
 "nbformat": 4,
 "nbformat_minor": 2
}
