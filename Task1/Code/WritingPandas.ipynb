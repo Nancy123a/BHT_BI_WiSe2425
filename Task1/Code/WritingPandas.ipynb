{
 "cells": [
  {
   "cell_type": "markdown",
   "metadata": {},
   "source": [
    "# Writing a Pandas Dataframe to the database"
   ]
  },
  {
   "cell_type": "markdown",
   "metadata": {},
   "source": [
    "#### Setup environemnt & connection"
   ]
  },
  {
   "cell_type": "code",
   "execution_count": 3,
   "metadata": {},
   "outputs": [
    {
     "name": "stdout",
     "output_type": "stream",
     "text": [
      "Requirement already satisfied: pyexasol in /home/chandler/anaconda3/envs/PDSP/lib/python3.12/site-packages (0.27.0)\n",
      "Requirement already satisfied: packaging in /home/chandler/anaconda3/envs/PDSP/lib/python3.12/site-packages (from pyexasol) (24.1)\n",
      "Requirement already satisfied: pyopenssl in /home/chandler/anaconda3/envs/PDSP/lib/python3.12/site-packages (from pyexasol) (24.2.1)\n",
      "Requirement already satisfied: rsa in /home/chandler/anaconda3/envs/PDSP/lib/python3.12/site-packages (from pyexasol) (4.9)\n",
      "Requirement already satisfied: websocket-client>=1.0.1 in /home/chandler/anaconda3/envs/PDSP/lib/python3.12/site-packages (from pyexasol) (1.8.0)\n",
      "Requirement already satisfied: cryptography<44,>=41.0.5 in /home/chandler/anaconda3/envs/PDSP/lib/python3.12/site-packages (from pyopenssl->pyexasol) (43.0.1)\n",
      "Requirement already satisfied: pyasn1>=0.1.3 in /home/chandler/anaconda3/envs/PDSP/lib/python3.12/site-packages (from rsa->pyexasol) (0.6.1)\n",
      "Requirement already satisfied: cffi>=1.12 in /home/chandler/anaconda3/envs/PDSP/lib/python3.12/site-packages (from cryptography<44,>=41.0.5->pyopenssl->pyexasol) (1.17.1)\n",
      "Requirement already satisfied: pycparser in /home/chandler/anaconda3/envs/PDSP/lib/python3.12/site-packages (from cffi>=1.12->cryptography<44,>=41.0.5->pyopenssl->pyexasol) (2.21)\n",
      "Requirement already satisfied: websocket-client in /home/chandler/anaconda3/envs/PDSP/lib/python3.12/site-packages (1.8.0)\n",
      "Requirement already satisfied: ujson in /home/chandler/anaconda3/envs/PDSP/lib/python3.12/site-packages (5.10.0)\n",
      "Requirement already satisfied: pyodbc in /home/chandler/anaconda3/envs/PDSP/lib/python3.12/site-packages (5.2.0)\n"
     ]
    }
   ],
   "source": [
    "!pip install pyexasol\n",
    "!pip install websocket-client ujson\n",
    "!pip install pyodbc"
   ]
  },
  {
   "cell_type": "code",
   "execution_count": null,
   "metadata": {},
   "outputs": [],
   "source": [
    "# imports\n",
    "import pandas as pd\n",
    "import pyexasol\n",
    "\n",
    "host = '192.168.56.101/E176DDD5013BFA9B9FAF6E470EF099181698FC0ED1817158CE84911F02345B5E:8563'  # Don't forget to change the fingerprint\n",
    "user = 'sys'\n",
    "password = 'exasol'\n",
    "\n",
    "# Connect to Exasol\n",
    "conn = pyexasol.connect(dsn=host, \n",
    "                        user=user, \n",
    "                        password=password, \n",
    "                        debug=False, \n",
    "                        protocol_version=pyexasol.PROTOCOL_V1)\n"
   ]
  },
  {
   "cell_type": "markdown",
   "metadata": {},
   "source": [
    "#### Create Pandas Dataframe (Or read in our data here)"
   ]
  },
  {
   "cell_type": "code",
   "execution_count": 25,
   "metadata": {},
   "outputs": [
    {
     "name": "stdout",
     "output_type": "stream",
     "text": [
      "(500, 3) \n",
      " <bound method NDFrame.head of     TestString  TestInt  TestFloat\n",
      "0           hi        4        3.0\n",
      "1           hi        4        3.0\n",
      "2           hi        4        3.0\n",
      "3           hi        4        3.0\n",
      "4           hi        4        3.0\n",
      "..         ...      ...        ...\n",
      "495         hi        3        3.0\n",
      "496         hi        3        3.0\n",
      "497         hi        3        3.0\n",
      "498         hi        3        3.0\n",
      "499         hi        3        3.0\n",
      "\n",
      "[500 rows x 3 columns]>\n"
     ]
    }
   ],
   "source": [
    "# Here is some made up data - trying integer, float, and string data\n",
    "\n",
    "data = {\n",
    "    'TestString' : ['hi'] * 500,\n",
    "    'TestInt' : [4] * 250 + [3] * 250,\n",
    "    'TestFloat' : [3.0] * 500\n",
    "}\n",
    "df = pd.DataFrame(data)\n",
    "\n",
    "# Verify it was created\n",
    "print(df.shape, \"\\n\", df.head)"
   ]
  },
  {
   "cell_type": "markdown",
   "metadata": {},
   "source": [
    "#### Create our table on the database - Run this one time"
   ]
  },
  {
   "cell_type": "code",
   "execution_count": 33,
   "metadata": {},
   "outputs": [
    {
     "data": {
      "text/plain": [
       "<ExaStatement session_id=1814528615647245490 stmt_idx=24>"
      ]
     },
     "execution_count": 33,
     "metadata": {},
     "output_type": "execute_result"
    }
   ],
   "source": [
    "create_table_query = '''\n",
    "CREATE TABLE AOL_SCHEMA.TEST_TABLE1 (\n",
    "    TestString VARCHAR(100),\n",
    "    TestInt INTEGER,\n",
    "    TestFloat DECIMAL(10,0)\n",
    ")\n",
    "'''\n",
    "\n",
    "conn.execute(create_table_query)"
   ]
  },
  {
   "cell_type": "markdown",
   "metadata": {},
   "source": [
    "#### Write your data to the table - Running this multiple times will append more data"
   ]
  },
  {
   "cell_type": "code",
   "execution_count": 19,
   "metadata": {},
   "outputs": [],
   "source": [
    "conn.import_from_pandas(df, table=('AOL_SCHEMA', 'TEST_TABLE1'))"
   ]
  },
  {
   "cell_type": "markdown",
   "metadata": {},
   "source": [
    "#### Test that it was actually written"
   ]
  },
  {
   "cell_type": "code",
   "execution_count": 20,
   "metadata": {},
   "outputs": [
    {
     "name": "stdout",
     "output_type": "stream",
     "text": [
      "It works! Note that multiple writes simply appends to the table\n",
      "  TESTSTRING  TESTINT  TESTFLOAT\n",
      "0         hi        3          3\n",
      "1         hi        3          3\n",
      "2         hi        3          3\n",
      "3         hi        3          3\n",
      "4         hi        3          3\n"
     ]
    },
    {
     "data": {
      "text/html": [
       "<div>\n",
       "<style scoped>\n",
       "    .dataframe tbody tr th:only-of-type {\n",
       "        vertical-align: middle;\n",
       "    }\n",
       "\n",
       "    .dataframe tbody tr th {\n",
       "        vertical-align: top;\n",
       "    }\n",
       "\n",
       "    .dataframe thead th {\n",
       "        text-align: right;\n",
       "    }\n",
       "</style>\n",
       "<table border=\"1\" class=\"dataframe\">\n",
       "  <thead>\n",
       "    <tr style=\"text-align: right;\">\n",
       "      <th></th>\n",
       "      <th>TESTSTRING</th>\n",
       "      <th>TESTINT</th>\n",
       "      <th>TESTFLOAT</th>\n",
       "    </tr>\n",
       "  </thead>\n",
       "  <tbody>\n",
       "    <tr>\n",
       "      <th>0</th>\n",
       "      <td>hi</td>\n",
       "      <td>3</td>\n",
       "      <td>3</td>\n",
       "    </tr>\n",
       "    <tr>\n",
       "      <th>1</th>\n",
       "      <td>hi</td>\n",
       "      <td>3</td>\n",
       "      <td>3</td>\n",
       "    </tr>\n",
       "    <tr>\n",
       "      <th>2</th>\n",
       "      <td>hi</td>\n",
       "      <td>3</td>\n",
       "      <td>3</td>\n",
       "    </tr>\n",
       "    <tr>\n",
       "      <th>3</th>\n",
       "      <td>hi</td>\n",
       "      <td>3</td>\n",
       "      <td>3</td>\n",
       "    </tr>\n",
       "    <tr>\n",
       "      <th>4</th>\n",
       "      <td>hi</td>\n",
       "      <td>3</td>\n",
       "      <td>3</td>\n",
       "    </tr>\n",
       "    <tr>\n",
       "      <th>...</th>\n",
       "      <td>...</td>\n",
       "      <td>...</td>\n",
       "      <td>...</td>\n",
       "    </tr>\n",
       "    <tr>\n",
       "      <th>1495</th>\n",
       "      <td>hi</td>\n",
       "      <td>4</td>\n",
       "      <td>3</td>\n",
       "    </tr>\n",
       "    <tr>\n",
       "      <th>1496</th>\n",
       "      <td>hi</td>\n",
       "      <td>4</td>\n",
       "      <td>3</td>\n",
       "    </tr>\n",
       "    <tr>\n",
       "      <th>1497</th>\n",
       "      <td>hi</td>\n",
       "      <td>4</td>\n",
       "      <td>3</td>\n",
       "    </tr>\n",
       "    <tr>\n",
       "      <th>1498</th>\n",
       "      <td>hi</td>\n",
       "      <td>4</td>\n",
       "      <td>3</td>\n",
       "    </tr>\n",
       "    <tr>\n",
       "      <th>1499</th>\n",
       "      <td>hi</td>\n",
       "      <td>4</td>\n",
       "      <td>3</td>\n",
       "    </tr>\n",
       "  </tbody>\n",
       "</table>\n",
       "<p>1500 rows × 3 columns</p>\n",
       "</div>"
      ],
      "text/plain": [
       "     TESTSTRING  TESTINT  TESTFLOAT\n",
       "0            hi        3          3\n",
       "1            hi        3          3\n",
       "2            hi        3          3\n",
       "3            hi        3          3\n",
       "4            hi        3          3\n",
       "...         ...      ...        ...\n",
       "1495         hi        4          3\n",
       "1496         hi        4          3\n",
       "1497         hi        4          3\n",
       "1498         hi        4          3\n",
       "1499         hi        4          3\n",
       "\n",
       "[1500 rows x 3 columns]"
      ]
     },
     "execution_count": 20,
     "metadata": {},
     "output_type": "execute_result"
    }
   ],
   "source": [
    "# Query from the database\n",
    "\n",
    "# Abstract reading and printing\n",
    "def print_query(query, connection):\n",
    "    stmt = connection.export_to_pandas(query)\n",
    "    print(stmt.head())\n",
    "    return stmt\n",
    "\n",
    "q = '''SELECT * FROM AOL_SCHEMA.TEST_TABLE1'''\n",
    "\n",
    "print(\"It works! Note that multiple writes simply appends to the table\")\n",
    "print_query(q, conn)"
   ]
  },
  {
   "cell_type": "markdown",
   "metadata": {},
   "source": [
    "#### Now remove data from the table"
   ]
  },
  {
   "cell_type": "code",
   "execution_count": null,
   "metadata": {},
   "outputs": [
    {
     "data": {
      "text/plain": [
       "<ExaStatement session_id=1814528615647245490 stmt_idx=15>"
      ]
     },
     "execution_count": 23,
     "metadata": {},
     "output_type": "execute_result"
    }
   ],
   "source": [
    "delete_query = '''\n",
    "DELETE FROM AOL_SCHEMA.TEST_TABLE1\n",
    "WHERE AOL_SCHEMA.TEST_TABLE1.TESTINT = 4\n",
    "'''\n",
    "\n",
    "# Delete All\n",
    "#delete_query = \"DELETE FROM AOL_SCHEMA.TEST_TABLE1 \"\n",
    "\n",
    "conn.execute(delete_query)"
   ]
  },
  {
   "cell_type": "code",
   "execution_count": 24,
   "metadata": {},
   "outputs": [
    {
     "name": "stdout",
     "output_type": "stream",
     "text": [
      "Empty DataFrame\n",
      "Columns: [TESTSTRING, TESTINT, TESTFLOAT]\n",
      "Index: []\n"
     ]
    },
    {
     "data": {
      "text/html": [
       "<div>\n",
       "<style scoped>\n",
       "    .dataframe tbody tr th:only-of-type {\n",
       "        vertical-align: middle;\n",
       "    }\n",
       "\n",
       "    .dataframe tbody tr th {\n",
       "        vertical-align: top;\n",
       "    }\n",
       "\n",
       "    .dataframe thead th {\n",
       "        text-align: right;\n",
       "    }\n",
       "</style>\n",
       "<table border=\"1\" class=\"dataframe\">\n",
       "  <thead>\n",
       "    <tr style=\"text-align: right;\">\n",
       "      <th></th>\n",
       "      <th>TESTSTRING</th>\n",
       "      <th>TESTINT</th>\n",
       "      <th>TESTFLOAT</th>\n",
       "    </tr>\n",
       "  </thead>\n",
       "  <tbody>\n",
       "  </tbody>\n",
       "</table>\n",
       "</div>"
      ],
      "text/plain": [
       "Empty DataFrame\n",
       "Columns: [TESTSTRING, TESTINT, TESTFLOAT]\n",
       "Index: []"
      ]
     },
     "execution_count": 24,
     "metadata": {},
     "output_type": "execute_result"
    }
   ],
   "source": [
    "# Verify that it works\n",
    "q = '''SELECT * FROM AOL_SCHEMA.TEST_TABLE1'''\n",
    "print_query(q, conn)"
   ]
  },
  {
   "cell_type": "markdown",
   "metadata": {},
   "source": [
    "#### Delete the table in SQL - Drop Table"
   ]
  },
  {
   "cell_type": "code",
   "execution_count": 37,
   "metadata": {},
   "outputs": [
    {
     "data": {
      "text/plain": [
       "<ExaStatement session_id=1814528615647245490 stmt_idx=28>"
      ]
     },
     "execution_count": 37,
     "metadata": {},
     "output_type": "execute_result"
    }
   ],
   "source": [
    "drop_table_query = \"DROP TABLE AOL_SCHEMA.TEST_TABLE1\"\n",
    "conn.execute(drop_table_query)"
   ]
  },
  {
   "cell_type": "code",
   "execution_count": 38,
   "metadata": {},
   "outputs": [
    {
     "name": "stdout",
     "output_type": "stream",
     "text": [
      "Success, table doesn't exist\n"
     ]
    }
   ],
   "source": [
    "# Verify that it works\n",
    "q = '''SELECT * FROM AOL_SCHEMA.TEST_TABLE1'''\n",
    "\n",
    "try:\n",
    "    conn.export_to_pandas(q)\n",
    "    print(\"Failure, table exists\")\n",
    "except:\n",
    "    print(\"Success, table doesn't exist\")"
   ]
  }
 ],
 "metadata": {
  "kernelspec": {
   "display_name": "PDSP",
   "language": "python",
   "name": "python3"
  },
  "language_info": {
   "codemirror_mode": {
    "name": "ipython",
    "version": 3
   },
   "file_extension": ".py",
   "mimetype": "text/x-python",
   "name": "python",
   "nbconvert_exporter": "python",
   "pygments_lexer": "ipython3",
   "version": "3.12.7"
  }
 },
 "nbformat": 4,
 "nbformat_minor": 2
}
