{
 "cells": [
  {
   "cell_type": "markdown",
   "metadata": {},
   "source": [
    "## Per User/Session, what is the distribution of interclick times? Moreover, can we model the behavior of the user as a poisson process?"
   ]
  },
  {
   "cell_type": "code",
   "execution_count": 1,
   "metadata": {},
   "outputs": [],
   "source": [
    "# imports\n",
    "import pandas as pd\n",
    "import pyexasol\n",
    "\n",
    "pd.set_option(\"display.max_colwidth\", None)\n",
    "def printQuery(query, connection):\n",
    "    stmt = connection.export_to_pandas(query)\n",
    "    print(stmt.head())\n",
    "    return stmt\n",
    "\n",
    "host = '192.168.56.101/8A3F422F336963EBB2E452E08A6B6E7060A554D85223032A44E9C60F0EFB8544:8563'  # Don't forget to change the fingerprint\n",
    "user = 'sys'\n",
    "password = 'exasol'\n",
    "\n",
    "# Connect to Exasol\n",
    "conn = pyexasol.connect(dsn=host, \n",
    "                        user=user, \n",
    "                        password=password, \n",
    "                        debug=False, \n",
    "                        protocol_version=pyexasol.PROTOCOL_V1)"
   ]
  },
  {
   "cell_type": "code",
   "execution_count": null,
   "metadata": {},
   "outputs": [
    {
     "data": {
      "text/plain": [
       "<ExaStatement session_id=1814606645620018945 stmt_idx=6>"
      ]
     },
     "execution_count": 4,
     "metadata": {},
     "output_type": "execute_result"
    }
   ],
   "source": [
    "# Get top 20 url queries, user, and time data\n",
    "# Interarrival time table with properly formatted date/time\n",
    "q =  '''\n",
    "CREATE TABLE AOL_SCHEMA.INTERARRIVAL_TIMES AS\n",
    "    SELECT \n",
    "        FACTS.ANONID,\n",
    "        CAST(\n",
    "        CONCAT(\n",
    "            '2006-',\n",
    "            LPAD(CASE \n",
    "                WHEN TIMEDIM.[day of the year] BETWEEN 60 AND 90 THEN '03'\n",
    "                WHEN TIMEDIM.[day of the year] BETWEEN 91 AND 120 THEN '04'\n",
    "                WHEN TIMEDIM.[day of the year] BETWEEN 121 AND 151 THEN '05'\n",
    "                ELSE '01'\n",
    "            END, 2, '0'), '-', \n",
    "            LPAD(TIMEDIM.[day of the month], 2, '0'), ' ',\n",
    "            LPAD(TIMEDIM.[hour], 2, '0'), ':', \n",
    "            LPAD(TIMEDIM.[minute], 2, '0'), ':', \n",
    "            LPAD(TIMEDIM.[second], 2, '0')\n",
    "        ) AS TIMESTAMP) AS time_as_datetime\n",
    "    FROM\n",
    "        AOL_SCHEMA.FACTS LEFT JOIN AOL_SCHEMA.TIMEDIM ON FACTS.TIMEID = TIMEDIM.ID\n",
    "        LEFT JOIN AOL_SCHEMA.URLDIM ON FACTS.URLID = URLDIM.ID\n",
    "    WHERE FACTS.CLICK = 1\n",
    "        AND URLDIM.URL IN (\n",
    "            SELECT URLDIM.URL\n",
    "            FROM AOL_SCHEMA.FACTS \n",
    "            JOIN AOL_SCHEMA.URLDIM ON AOL_SCHEMA.FACTS.URLID = AOL_SCHEMA.URLDIM.ID\n",
    "            WHERE AOL_SCHEMA.FACTS.CLICK = 1\n",
    "            GROUP BY URLDIM.URL\n",
    "            ORDER BY COUNT(AOL_SCHEMA.FACTS.CLICK) DESC\n",
    "            LIMIT 20\n",
    "        )\n",
    "        AND FACTS.ANONID IS NOT NULL\n",
    "        AND TIMEDIM.[hour] IS NOT NULL\n",
    "        AND TIMEDIM.[minute] IS NOT NULL\n",
    "        AND TIMEDIM.[second] IS NOT NULL\n",
    "        AND TIMEDIM.[day of the year] IS NOT NULL\n",
    "'''\n",
    "conn.execute(\"DROP TABLE AOL_SCHEMA.INTERARRIVAL_TIMES\")\n",
    "conn.execute(q)\n",
    "\n",
    "\n",
    "\n",
    "\n",
    "#df = printQuery(q, conn)\n"
   ]
  },
  {
   "cell_type": "code",
   "execution_count": 12,
   "metadata": {},
   "outputs": [
    {
     "name": "stdout",
     "output_type": "stream",
     "text": [
      "   ANONID            TIME_AS_DATETIME              LAGGEDDATETIME  \\\n",
      "0      15  2006-03-11 09:55:17.000000  2006-03-11 09:55:17.000000   \n",
      "1      15  2006-03-18 21:02:45.000000  2006-03-11 09:55:17.000000   \n",
      "2      15  2006-03-18 21:06:01.000000  2006-03-18 21:02:45.000000   \n",
      "3      15  2006-03-21 19:55:51.000000  2006-03-18 21:06:01.000000   \n",
      "4      15  2006-03-21 20:09:22.000000  2006-03-21 19:55:51.000000   \n",
      "\n",
      "   SECONDS_DIFFERENCE  MINUTES_DIFFERENCE  \n",
      "0                   0            0.000000  \n",
      "1              644848        10747.466667  \n",
      "2                 196            3.266667  \n",
      "3              254990         4249.833333  \n",
      "4                 811           13.516667  \n"
     ]
    }
   ],
   "source": [
    "# Obtain the anon ID's and times where there are more than 100 instances of clicking on a webpage in the top 20 most clicked webpages\n",
    "\n",
    "q = '''\n",
    "SELECT \n",
    "    T1.ANONID,\n",
    "    T1.TIME_AS_DATETIME,\n",
    "    COALESCE(LAG(TIME_AS_DATETIME) OVER (PARTITION BY ANONID ORDER BY TIME_AS_DATETIME), TIME_AS_DATETIME) AS LaggedDateTime,\n",
    "    SECONDS_BETWEEN(T1.TIME_AS_DATETIME, COALESCE(LAG(TIME_AS_DATETIME) OVER (PARTITION BY ANONID ORDER BY TIME_AS_DATETIME), TIME_AS_DATETIME)) as Seconds_Difference,\n",
    "    MINUTES_BETWEEN(T1.TIME_AS_DATETIME, COALESCE(LAG(TIME_AS_DATETIME) OVER (PARTITION BY ANONID ORDER BY TIME_AS_DATETIME), TIME_AS_DATETIME)) as Minutes_Difference\n",
    "FROM AOL_SCHEMA.INTERARRIVAL_TIMES as T1\n",
    "WHERE T1.ANONID IN (\n",
    "    SELECT T2.ANONID\n",
    "    FROM AOL_SCHEMA.INTERARRIVAL_TIMES as T2\n",
    "    GROUP BY T2.ANONID\n",
    "    HAVING COUNT(T2.ANONID) >= 10\n",
    ")\n",
    "\n",
    "ORDER BY\n",
    "    T1.ANONID,\n",
    "    T1.TIME_AS_DATETIME\n",
    "'''\n",
    "\n",
    "df = printQuery(q, conn)"
   ]
  },
  {
   "cell_type": "code",
   "execution_count": 15,
   "metadata": {},
   "outputs": [
    {
     "data": {
      "text/html": [
       "<div>\n",
       "<style scoped>\n",
       "    .dataframe tbody tr th:only-of-type {\n",
       "        vertical-align: middle;\n",
       "    }\n",
       "\n",
       "    .dataframe tbody tr th {\n",
       "        vertical-align: top;\n",
       "    }\n",
       "\n",
       "    .dataframe thead th {\n",
       "        text-align: right;\n",
       "    }\n",
       "</style>\n",
       "<table border=\"1\" class=\"dataframe\">\n",
       "  <thead>\n",
       "    <tr style=\"text-align: right;\">\n",
       "      <th></th>\n",
       "      <th>ANONID</th>\n",
       "      <th>TIME_AS_DATETIME</th>\n",
       "      <th>LAGGEDDATETIME</th>\n",
       "      <th>SECONDS_DIFFERENCE</th>\n",
       "      <th>MINUTES_DIFFERENCE</th>\n",
       "    </tr>\n",
       "  </thead>\n",
       "  <tbody>\n",
       "    <tr>\n",
       "      <th>0</th>\n",
       "      <td>15</td>\n",
       "      <td>2006-03-11 09:55:17.000000</td>\n",
       "      <td>2006-03-11 09:55:17.000000</td>\n",
       "      <td>0</td>\n",
       "      <td>0.000000</td>\n",
       "    </tr>\n",
       "    <tr>\n",
       "      <th>1</th>\n",
       "      <td>15</td>\n",
       "      <td>2006-03-18 21:02:45.000000</td>\n",
       "      <td>2006-03-11 09:55:17.000000</td>\n",
       "      <td>644848</td>\n",
       "      <td>10747.466667</td>\n",
       "    </tr>\n",
       "    <tr>\n",
       "      <th>2</th>\n",
       "      <td>15</td>\n",
       "      <td>2006-03-18 21:06:01.000000</td>\n",
       "      <td>2006-03-18 21:02:45.000000</td>\n",
       "      <td>196</td>\n",
       "      <td>3.266667</td>\n",
       "    </tr>\n",
       "    <tr>\n",
       "      <th>3</th>\n",
       "      <td>15</td>\n",
       "      <td>2006-03-21 19:55:51.000000</td>\n",
       "      <td>2006-03-18 21:06:01.000000</td>\n",
       "      <td>254990</td>\n",
       "      <td>4249.833333</td>\n",
       "    </tr>\n",
       "    <tr>\n",
       "      <th>4</th>\n",
       "      <td>15</td>\n",
       "      <td>2006-03-21 20:09:22.000000</td>\n",
       "      <td>2006-03-21 19:55:51.000000</td>\n",
       "      <td>811</td>\n",
       "      <td>13.516667</td>\n",
       "    </tr>\n",
       "    <tr>\n",
       "      <th>...</th>\n",
       "      <td>...</td>\n",
       "      <td>...</td>\n",
       "      <td>...</td>\n",
       "      <td>...</td>\n",
       "      <td>...</td>\n",
       "    </tr>\n",
       "    <tr>\n",
       "      <th>1028370</th>\n",
       "      <td>657399</td>\n",
       "      <td>2006-04-11 09:28:37.000000</td>\n",
       "      <td>2006-04-11 09:22:01.000000</td>\n",
       "      <td>396</td>\n",
       "      <td>6.600000</td>\n",
       "    </tr>\n",
       "    <tr>\n",
       "      <th>1028371</th>\n",
       "      <td>657399</td>\n",
       "      <td>2006-04-11 09:33:27.000000</td>\n",
       "      <td>2006-04-11 09:28:37.000000</td>\n",
       "      <td>290</td>\n",
       "      <td>4.833333</td>\n",
       "    </tr>\n",
       "    <tr>\n",
       "      <th>1028372</th>\n",
       "      <td>657399</td>\n",
       "      <td>2006-04-11 09:36:22.000000</td>\n",
       "      <td>2006-04-11 09:33:27.000000</td>\n",
       "      <td>175</td>\n",
       "      <td>2.916667</td>\n",
       "    </tr>\n",
       "    <tr>\n",
       "      <th>1028373</th>\n",
       "      <td>657399</td>\n",
       "      <td>2006-04-24 19:48:08.000000</td>\n",
       "      <td>2006-04-11 09:36:22.000000</td>\n",
       "      <td>1159906</td>\n",
       "      <td>19331.766667</td>\n",
       "    </tr>\n",
       "    <tr>\n",
       "      <th>1028374</th>\n",
       "      <td>657399</td>\n",
       "      <td>2006-04-29 19:11:47.000000</td>\n",
       "      <td>2006-04-24 19:48:08.000000</td>\n",
       "      <td>429819</td>\n",
       "      <td>7163.650000</td>\n",
       "    </tr>\n",
       "  </tbody>\n",
       "</table>\n",
       "<p>1028375 rows × 5 columns</p>\n",
       "</div>"
      ],
      "text/plain": [
       "         ANONID            TIME_AS_DATETIME              LAGGEDDATETIME  \\\n",
       "0            15  2006-03-11 09:55:17.000000  2006-03-11 09:55:17.000000   \n",
       "1            15  2006-03-18 21:02:45.000000  2006-03-11 09:55:17.000000   \n",
       "2            15  2006-03-18 21:06:01.000000  2006-03-18 21:02:45.000000   \n",
       "3            15  2006-03-21 19:55:51.000000  2006-03-18 21:06:01.000000   \n",
       "4            15  2006-03-21 20:09:22.000000  2006-03-21 19:55:51.000000   \n",
       "...         ...                         ...                         ...   \n",
       "1028370  657399  2006-04-11 09:28:37.000000  2006-04-11 09:22:01.000000   \n",
       "1028371  657399  2006-04-11 09:33:27.000000  2006-04-11 09:28:37.000000   \n",
       "1028372  657399  2006-04-11 09:36:22.000000  2006-04-11 09:33:27.000000   \n",
       "1028373  657399  2006-04-24 19:48:08.000000  2006-04-11 09:36:22.000000   \n",
       "1028374  657399  2006-04-29 19:11:47.000000  2006-04-24 19:48:08.000000   \n",
       "\n",
       "         SECONDS_DIFFERENCE  MINUTES_DIFFERENCE  \n",
       "0                         0            0.000000  \n",
       "1                    644848        10747.466667  \n",
       "2                       196            3.266667  \n",
       "3                    254990         4249.833333  \n",
       "4                       811           13.516667  \n",
       "...                     ...                 ...  \n",
       "1028370                 396            6.600000  \n",
       "1028371                 290            4.833333  \n",
       "1028372                 175            2.916667  \n",
       "1028373             1159906        19331.766667  \n",
       "1028374              429819         7163.650000  \n",
       "\n",
       "[1028375 rows x 5 columns]"
      ]
     },
     "execution_count": 15,
     "metadata": {},
     "output_type": "execute_result"
    }
   ],
   "source": [
    "df.shape\n",
    "df"
   ]
  },
  {
   "cell_type": "markdown",
   "metadata": {},
   "source": [
    "#### Check histograms per user"
   ]
  },
  {
   "cell_type": "code",
   "execution_count": 16,
   "metadata": {},
   "outputs": [
    {
     "data": {
      "text/plain": [
       "(array([955.,  48.,  43.,   9.,   9.,   2.,   0.,   1.,   0.,   3.]),\n",
       " array([   0.        ,  278.23833333,  556.47666667,  834.715     ,\n",
       "        1112.95333333, 1391.19166667, 1669.43      , 1947.66833333,\n",
       "        2225.90666667, 2504.145     , 2782.38333333]),\n",
       " <BarContainer object of 10 artists>)"
      ]
     },
     "execution_count": 16,
     "metadata": {},
     "output_type": "execute_result"
    },
    {
     "data": {
      "image/png": "[encoded data removed]",
      "text/plain": [
       "<Figure size 640x480 with 1 Axes>"
      ]
     },
     "metadata": {},
     "output_type": "display_data"
    }
   ],
   "source": [
    "import matplotlib.pyplot as plt\n",
    "\n",
    "plt.hist(df[df['ANONID'] == 42833]['MINUTES_DIFFERENCE'])"
   ]
  },
  {
   "cell_type": "markdown",
   "metadata": {},
   "source": [
    "#### Concatenate all interclick times\n",
    "\n",
    "Look at a histogram of this. Labels and title"
   ]
  },
  {
   "cell_type": "code",
   "execution_count": null,
   "metadata": {},
   "outputs": [
    {
     "data": {
      "image/png": "[encoded data removed]",
      "text/plain": [
       "<Figure size 640x480 with 1 Axes>"
      ]
     },
     "metadata": {},
     "output_type": "display_data"
    }
   ],
   "source": [
    "# Get rid of those interclick times that are 0 and those that are more than 10 hours\n",
    "plotting_df = df[df['MINUTES_DIFFERENCE'] < 600]\n",
    "plotting_df = plotting_df[plotting_df['MINUTES_DIFFERENCE'] > 0]['MINUTES_DIFFERENCE']\n",
    "\n",
    "max_value = max(plotting_df)\n",
    "bin_width = 15\n",
    "bins = list(range(0, int(max_value) + bin_width, bin_width))\n",
    "plt.hist(plotting_df, bins=bins)\n",
    "\n",
    "plt.xlabel('Minutes between clicks')\n",
    "plt.ylabel('Frequency')\n",
    "plt.title('Overall Distribution of Interclick Times')\n",
    "plt.show()\n"
   ]
  },
  {
   "cell_type": "markdown",
   "metadata": {},
   "source": [
    "#### Find the rate parameter of the distribution"
   ]
  },
  {
   "cell_type": "code",
   "execution_count": 40,
   "metadata": {},
   "outputs": [
    {
     "name": "stdout",
     "output_type": "stream",
     "text": [
      "0.008854968148312553\n",
      "0.00023044314016607877\n"
     ]
    }
   ],
   "source": [
    "rate = 1/plotting_df.mean()\n",
    "print(rate)\n",
    "\n",
    "rate = 1/df[df['MINUTES_DIFFERENCE'] > 0]['MINUTES_DIFFERENCE'].mean()\n",
    "print(rate)\n"
   ]
  }
 ],
 "metadata": {
  "kernelspec": {
   "display_name": "PDSP",
   "language": "python",
   "name": "python3"
  },
  "language_info": {
   "codemirror_mode": {
    "name": "ipython",
    "version": 3
   },
   "file_extension": ".py",
   "mimetype": "text/x-python",
   "name": "python",
   "nbconvert_exporter": "python",
   "pygments_lexer": "ipython3",
   "version": "3.12.7"
  }
 },
 "nbformat": 4,
 "nbformat_minor": 2
}
